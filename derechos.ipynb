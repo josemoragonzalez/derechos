{
 "cells": [
  {
   "cell_type": "markdown",
   "metadata": {},
   "source": [
    "# Análisis de derechos de agua (Parte I)"
   ]
  },
  {
   "cell_type": "markdown",
   "metadata": {},
   "source": [
    "## Descarga de datos desde www.dga.cl\n",
    "\n",
    "Es necesario un poco de relato respecto de este proceso para entender por qué lo hice de esta manera y no algo más simple.\n",
    "Obviamente lo primero que intenté fue leer los archivos Excel, publicados por la DGA, usando Pandas, pero esto arrojaba error 500, pese a que navegando usando cualquier browser se pueden descargar, por ello traté también con urllib, pero también me fue mal, por lo que decidí usar selenium, y simular la navegación.\n",
    "\n",
    "El problema de esto es que requiere un setup incial que las otras alternativas no tienen, obviamente lo primero es instalar selenium, esto lo podemos hacer con un simple (cabe mencionar que estoy usando OSX Mojave 10.14, por lo que algunas instrucciones serán distintas para Windows, actualmente no tengo ningún PC con ese OS, por lo que en cuanto tenga acceso actualizaré estas instrucciones para ese OS)\n",
    "\n",
    "``` pip install selenium ```\n",
    "\n",
    "\n",
    "Luego es necesario instalar el driver del browser que vamos a usar para navegar por el sitio\n",
    "en mi caso usé gecko de Firefox. Para esta instalación seguí la siguiente guía https://www.kenst.com/2016/12/installing-marionette-firefoxdriver-on-mac-osx/ pero que es escencialmente instalar vía ***brew*** con el siguiente comando:\n",
    "\n",
    "```brew install geckodriver```\n",
    "\n",
    "Con eso ya estamos en condiciones de descargar los archivos, al menos en OSX :P\n",
    "\n",
    "Ahora algunos puntos sobre la web donde se encuentran los archvivos. Lo primero es que existen un repositorio de archvios que se actualiza con cierta periodicidad en http://www.dga.cl/productosyservicios/derechos_historicos/Paginas/default.aspx y este será el que utilizaré para trabajar este proyecto. Existe además un buscador en http://derechosdeagua.dga.cl que está implementado en php y que arroja como resultado un xml con extensión xls, que sinceramente no pude trabajar de manera correcta con pandas.\n",
    "\n",
    "A continuación una imagen del sitio: \n",
    "\n",
    "<img src=\"https://i.ibb.co/8c118VS/Captura-de-Pantalla-2019-10-06-a-la-s-09-12-23.png\" alt=\"Captura-de-Pantalla-2019-10-06-a-la-s-09-12-23\" border=\"0\">\n",
    "\n",
    "Quisiera hacer una mención al hecho que hayan \"comprimido\" el consolidad nacional y hayan logrado pasar de los 41,5 MB a unos maravillosos a 40,1 MB 🙄"
   ]
  },
  {
   "cell_type": "markdown",
   "metadata": {},
   "source": [
    "### Descarga del archivo CONSOLIDADO al directorio de trabajo\n",
    "Las siguientes instrucciones permiten descargar el archivo de derechos de agua de todas las regiones consolidado, y que esta descarga quede en nuestro actual directorio de trabajo para que sea mas fácil trabajar con el posteriormente"
   ]
  },
  {
   "cell_type": "code",
   "execution_count": 16,
   "metadata": {},
   "outputs": [],
   "source": [
    "# Primero vamos a realizar algunas configuraciones necesarias para que posteriormente la descarga del archivo quede\n",
    "# en el actual directorio de trabajo\n",
    "import os\n",
    "from selenium import webdriver\n",
    "\n",
    "cwd = os.getcwd() #fijamos el actual directorio de trabajo\n",
    "\n",
    "# creamos un nuevo perfil de Firefox, para definir que las descargas sean al actial directorio de trabajo\n",
    "profile = webdriver.FirefoxProfile() \n",
    "profile.set_preference(\"browser.download.folderList\", 2)\n",
    "profile.set_preference(\"browser.download.dir\", cwd)\n",
    "profile.set_preference(\"browser.download.manager.showWhenStarting\", False)\n",
    "profile.set_preference(\"browser.helperApps.neverAsk.saveToDisk\", \"application/x-gzip\")\n",
    "\n",
    "# Luego cargar las librerias que vamos a usar para la navegación y descarga\n",
    "from selenium.webdriver.firefox.options import Options\n",
    "\n",
    "# Generamos el setup para que navegar sin cabeceras\n",
    "opts = Options()\n",
    "opts.headless = True\n",
    "assert opts.headless\n",
    "browser = webdriver.Firefox(options=opts, firefox_profile=profile)\n",
    "\n",
    "# Obtenemos la información del sitio\n",
    "browser.get('http://www.dga.cl/productosyservicios/derechos_historicos/Paginas/default.aspx')\n",
    "\n",
    "# Clickeamos en el link correspondiente\n",
    "browser.find_element_by_link_text('Consolidado nacional').click()"
   ]
  },
  {
   "cell_type": "markdown",
   "metadata": {},
   "source": [
    "### Descompresión del archivo CONSOLIDADO y carga en Pandas\n",
    "El siguiente código permite descomprimir el archivo descargado, que como ya mencionamos está comprimido en ZIP, aunque con una particularidad, al descargar el archivo con Selenium, a la extensión del archivo se le agregó una extensión **'.part'**, bastante extraña, como si nunca quedas descargada definitivamente, por lo que si alguien sabe como mejorar este aspecto se agradece, por el momento yo tomé el camino largo de cambiar la extensión vía código. "
   ]
  },
  {
   "cell_type": "code",
   "execution_count": 8,
   "metadata": {},
   "outputs": [
    {
     "data": {
      "text/plain": [
       "'/Users/josemora/Documents/derechos/yGsqFVcU.zip.part'"
      ]
     },
     "execution_count": 8,
     "metadata": {},
     "output_type": "execute_result"
    }
   ],
   "source": [
    "# Primero vamos a crear un loop que recorra el actual directorio, usando la librería 'os'\n",
    "\n",
    "files = [] # creamos la lista de archivos donde se almacenará nuestra actual descarga\n",
    "\n",
    "for r, d, f in os.walk(cwd): # r=root, d=directorios, f = archivos\n",
    "    for file in f:\n",
    "        if '.part' in file:\n",
    "            files.append(os.path.join(r, file))\n",
    "\n",
    "\n",
    "\n",
    "files[0]"
   ]
  },
  {
   "cell_type": "code",
   "execution_count": 9,
   "metadata": {},
   "outputs": [],
   "source": [
    "# Luego usando la misma librería vamos a renombrar el archivo\n",
    "thisFile = files[0]\n",
    "base = os.path.splitext(thisFile)[0]\n",
    "os.rename(thisFile, base + \"\")\n",
    "\n"
   ]
  },
  {
   "cell_type": "code",
   "execution_count": 4,
   "metadata": {},
   "outputs": [],
   "source": [
    "import os\n",
    "cwd = os.getcwd() #fijamos el actual directorio de trabajo"
   ]
  },
  {
   "cell_type": "code",
   "execution_count": null,
   "metadata": {},
   "outputs": [],
   "source": [
    "# lectura del archivo Excel descargado y carga en Pandas\n",
    "import pandas as pd\n",
    "data = pd.read_excel('derechos.xlsx') "
   ]
  },
  {
   "cell_type": "code",
   "execution_count": null,
   "metadata": {},
   "outputs": [],
   "source": []
  },
  {
   "cell_type": "code",
   "execution_count": null,
   "metadata": {},
   "outputs": [],
   "source": []
  },
  {
   "cell_type": "code",
   "execution_count": null,
   "metadata": {},
   "outputs": [],
   "source": []
  },
  {
   "cell_type": "code",
   "execution_count": null,
   "metadata": {},
   "outputs": [],
   "source": []
  },
  {
   "cell_type": "code",
   "execution_count": null,
   "metadata": {},
   "outputs": [],
   "source": []
  },
  {
   "cell_type": "code",
   "execution_count": null,
   "metadata": {},
   "outputs": [],
   "source": []
  },
  {
   "cell_type": "code",
   "execution_count": null,
   "metadata": {},
   "outputs": [],
   "source": []
  },
  {
   "cell_type": "code",
   "execution_count": null,
   "metadata": {},
   "outputs": [],
   "source": []
  },
  {
   "cell_type": "code",
   "execution_count": null,
   "metadata": {},
   "outputs": [],
   "source": []
  }
 ],
 "metadata": {
  "kernelspec": {
   "display_name": "Python 3",
   "language": "python",
   "name": "python3"
  },
  "language_info": {
   "codemirror_mode": {
    "name": "ipython",
    "version": 3
   },
   "file_extension": ".py",
   "mimetype": "text/x-python",
   "name": "python",
   "nbconvert_exporter": "python",
   "pygments_lexer": "ipython3",
   "version": "3.7.4"
  }
 },
 "nbformat": 4,
 "nbformat_minor": 4
}
